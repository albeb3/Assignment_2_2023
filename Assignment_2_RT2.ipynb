{
 "cells": [
  {
   "cell_type": "markdown",
   "id": "4e914296",
   "metadata": {
    "ExecuteTime": {
     "end_time": "2024-04-28T16:13:06.107423Z",
     "start_time": "2024-04-28T16:13:06.089982Z"
    }
   },
   "source": [
    "# Second Assignment of Research Track 2\n",
    "\n",
    "## Alberto Bono 3962994 "
   ]
  },
  {
   "cell_type": "markdown",
   "id": "8bfb954d",
   "metadata": {},
   "source": [
    "In the terminal execute the command `roslaunch assignment_2_2023 assignment2.launch` to start the simulation."
   ]
  },
  {
   "cell_type": "markdown",
   "id": "bf7d2825",
   "metadata": {},
   "source": [
    "# Import necessary libraries"
   ]
  },
  {
   "cell_type": "code",
   "execution_count": 1,
   "id": "402325c5",
   "metadata": {
    "ExecuteTime": {
     "end_time": "2024-05-30T19:27:27.223724Z",
     "start_time": "2024-05-30T19:27:25.653534Z"
    }
   },
   "outputs": [],
   "source": [
    "import jupyros as jr\n",
    "import rospy\n",
    "from std_srvs.srv import Empty\n",
    "from geometry_msgs.msg import Point, Pose, Twist\n",
    "from nav_msgs.msg import Odometry\n",
    "import time\n",
    "import actionlib\n",
    "import actionlib.msg\n",
    "import assignment_2_2023.msg\n",
    "from assignment_2_2023.msg import Posvel\n",
    "from assignment_2_2023.msg import PlanningAction, PlanningGoal, PlanningResult, PlanningActionGoal\n",
    "from std_srvs.srv import SetBool\n",
    "from actionlib_msgs.msg import GoalStatus\n",
    "#\n",
    "from IPython.display import display\n",
    "import ipywidgets as widgets\n",
    "import matplotlib.pyplot as plt\n",
    "from matplotlib.animation import FuncAnimation\n",
    "from ipywidgets import Button, HBox, VBox\n",
    "\n"
   ]
  },
  {
   "cell_type": "markdown",
   "id": "f7b17f8f",
   "metadata": {},
   "source": [
    "# Definition of usefull variables"
   ]
  },
  {
   "cell_type": "code",
   "execution_count": 2,
   "id": "94765075",
   "metadata": {
    "ExecuteTime": {
     "end_time": "2024-05-30T19:27:28.521193Z",
     "start_time": "2024-05-30T19:27:28.505036Z"
    }
   },
   "outputs": [],
   "source": [
    "# Initializing of the variables in according to the status of the robot\n",
    "status_canc = 2\n",
    "status_reach = 3\n",
    "\n",
    "\n",
    "# Enable the 'widget' backend for Matplotlib using the IPython interface\n",
    "get_ipython().run_line_magic('matplotlib', 'widget')"
   ]
  },
  {
   "cell_type": "markdown",
   "id": "5325cbe1",
   "metadata": {},
   "source": [
    "# Enabling interactive plots "
   ]
  },
  {
   "cell_type": "code",
   "execution_count": 3,
   "id": "ae74a6a2",
   "metadata": {
    "ExecuteTime": {
     "end_time": "2024-05-30T19:27:29.255135Z",
     "start_time": "2024-05-30T19:27:29.236534Z"
    }
   },
   "outputs": [],
   "source": [
    "class Goals_button:\n",
    "    def __init__(self):\n",
    "        #setting of the button \"set_goal_button\" to send the goal\n",
    "        self.set_goal_button = widgets.Button(description=\"START!\", disabled=False, button_style=\"success\", icon='play')\n",
    "        #setting of the button \"cancel_goal_button\" to cancel the goal\n",
    "        self.cancel_goal_button = Button(description=\"STOP!\", disabled=True, button_style=\"danger\", icon='times')\n",
    "        #setting of the button \"kill\" to reset the envronment\n",
    "        self.kill = widgets.Button(value=False, description='Reset enviroment', disabled=False, button_style = 'warning')\n",
    "        #setting of the spaces \"input_x and input_y\" for give the position of the target to be sent\n",
    "        self.input_x = widgets.BoundedFloatText(description='New goal x:', value=False, min=-9, max=9,bar_style = 'info')\n",
    "        self.input_y = widgets.BoundedFloatText(description='New goal y:', value=False, min=-9, max=9, bar_style = 'info')\n",
    "        #setting of the function must to activate when the button \"set_goal_button\" is clicked\n",
    "        self.set_goal_button.on_click(self.set_new_goal)\n",
    "        #setting of the function must to activate when the button \"cancel_goal_button\" is clicked\n",
    "        self.cancel_goal_button.on_click(self.cancel_current_goal)\n",
    "        #setting of the fuction must to activate when the button \"kill\" is clicked\n",
    "        self.kill.on_click(self.reset_env)\n",
    "        \n",
    "       \n",
    "        \n",
    "    def set_new_goal(self,button):\n",
    "       # Create an action client and wait for the server\n",
    "        client = actionlib.SimpleActionClient('/reaching_goal', assignment_2_2023.msg.PlanningAction)\n",
    "        client.wait_for_server()\n",
    "        # Create a new goal with the input values\n",
    "        goal = assignment_2_2023.msg.PlanningGoal()\n",
    "        goal.target_pose.pose.position.x = self.input_x.value\n",
    "        goal.target_pose.pose.position.y = self.input_y.value\n",
    "        # Send the goal to the server\n",
    "        client.send_goal(goal)\n",
    "        print(\"Goal was sent!\")\n",
    "        # Disable input fields and buttons appropriately\n",
    "        self.input_x.disabled = True\n",
    "        self.input_y.disabled = True\n",
    "        self.set_goal_button.disabled = True\n",
    "        self.cancel_goal_button.disabled = False\n",
    "    def cancel_current_goal(self,button):\n",
    "        # Cancel the current goal\n",
    "        client.cancel_goal()\n",
    "        # Re-enable input fields and buttons appropriately\n",
    "        self.input_x.disabled = False\n",
    "        self.input_y.disabled = False\n",
    "        self.set_goal_button.disabled = False\n",
    "        self.cancel_goal_button.disabled = True\n",
    "        print (\"Goal was cancel\")\n",
    "    \n",
    "    def reset_env(self,b):\n",
    "        # Wait for the reset service and call it\n",
    "        rospy.wait_for_service('/gazebo/reset_world')\n",
    "        try:\n",
    "            reset_world = rospy.ServiceProxy('/gazebo/reset_world', Empty)\n",
    "            reset_world()\n",
    "        except rospy.ServiceException:\n",
    "            print(\"Failed to reset the environment\")\n",
    "\n",
    "\n"
   ]
  },
  {
   "cell_type": "code",
   "execution_count": 4,
   "id": "c5f2d6cc",
   "metadata": {
    "ExecuteTime": {
     "end_time": "2024-05-30T19:27:29.807373Z",
     "start_time": "2024-05-30T19:27:29.759943Z"
    }
   },
   "outputs": [],
   "source": [
    "\n",
    "\n",
    "##classe visualizer per plottare il percorso del robot    \n",
    "class Visualiser:\n",
    "    def __init__(self,buttons):\n",
    "        # Initialize lists to store target and robot positions\n",
    "        self.x_data_target, self.y_data_target = [] , []\n",
    "        self.x_data_robot, self.y_data_robot = [] , []\n",
    "        self.pos_label = widgets.Label(value=\"Current position: \")\n",
    "        self.vel_label = widgets.Label(value=\"Current velocity: \")\n",
    "        self.goal_label = widgets.Label(value=\"Current goal: \")\n",
    "        self.goal_received = widgets.Label(value=\"Goal received: \")\n",
    "        # Setup matplotlib figures and axes\n",
    "        output = widgets.Output()\n",
    "        plt.ioff()\n",
    "        self.fig, (self.ax1, self.ax2 )= plt.subplots(1,2,figsize=(7,3),constrained_layout=True)\n",
    "        self.fig.canvas.toolbar_position = 'bottom'\n",
    "        plt.ion()\n",
    "        \n",
    "        with output:\n",
    "            display(self.fig.canvas)\n",
    "        \n",
    "        # Initialize status counts for goals\n",
    "        self.status_target = [0, 0]\n",
    "        self.target_labels = ['Canceled', 'Reached']\n",
    "        self.axis_status=self.ax2.bar(self.target_labels,self.status_target,color=['red','green'])\n",
    "        # Set titles for the subplots\n",
    "        self.ax1.set_title('Robot Position')\n",
    "        self.ax2.set_title('Goals Reached and Canceled')\n",
    "        # Initialize line objects for plotting robot and target positions\n",
    "        plt.ioff()\n",
    "        self.ln_robot, = self.ax1.plot([], [], 'go',label='posizione attuale')\n",
    "        self.ln_target, = self.ax1.plot([], [], 'yx',label='posizione del goal')\n",
    "        plt.ion()\n",
    "        \n",
    "        self.buttons=buttons\n",
    "        \n",
    "        # Setup the layout using ipywidgets\n",
    "        # First row with input fields and buttons\n",
    "        up_row =HBox([VBox([self.buttons.input_x, self.buttons.input_y]), VBox([self.buttons.set_goal_button,  self.buttons.cancel_goal_button])]) \n",
    "        # Core plot area\n",
    "        core_up= widgets.Box([output])\n",
    "        # Last row with reset button\n",
    "        core_bottom= self.buttons.kill\n",
    "        # Bottom row with status labels\n",
    "        bottom_row=VBox([self.pos_label,self.vel_label,self.goal_label])        \n",
    "        # Combine all parts into the final interface\n",
    "        interface = widgets.VBox([up_row,core_up,core_bottom,bottom_row])\n",
    "        # Display the interface\n",
    "        display(interface)\n",
    "       \n",
    "    def plot_init(self):\n",
    "        self.ax1.set_xlim(10, -10)\n",
    "        self.ax1.set_ylim(10, -10)\n",
    "        self.ax1.grid(True)\n",
    "        self.ax2.set_ylim(0, 10)\n",
    "        self.ax2.grid(True)\n",
    "        return self.ln_robot, self.ln_target, self.axis_status\n",
    "        \n",
    "    def odom_clbk(self, msg):\n",
    "        # Initialize the plot settings\n",
    "        self.y_data_robot.append(msg.pose.pose.position.y)\n",
    "        self.x_data_robot.append(msg.pose.pose.position.x) \n",
    "        self.pos_label.value= f\"Current position: {msg.pose.pose.position}\"\n",
    "        self.vel_label.value= f\"Current velocity: {msg.twist.twist.linear}\"\n",
    "    def target_clbk(self, msg):\n",
    "        # Callback for updating robot's position\n",
    "        self.x_data_target.append(msg.goal.target_pose.pose.position.x)\n",
    "        self.y_data_target.append(msg.goal.target_pose.pose.position.y)\n",
    "        self.goal_label.value= f\"Current goal: {msg.goal.target_pose.pose.position}\"\n",
    "    def result_clbk(self, msg):\n",
    "         # Callback for handling goal result\n",
    "        global status_canc, status_reach\n",
    "         # Get the status of the goal\n",
    "        status = msg.status.status\n",
    "        # Goal canceled\n",
    "        if status == status_canc:\n",
    "            self.buttons.input_x.disabled = False\n",
    "            self.buttons.input_y.disabled = False\n",
    "            self.buttons.set_goal_button.disabled = False\n",
    "            self.buttons.cancel_goal_button.disabled = True\n",
    "            self.status_target[0] += 1\n",
    "            self.y_data_robot=[]\n",
    "            self.x_data_robot=[]\n",
    "            print(\"Goal reached!\")\n",
    "        # Goal reached\n",
    "        elif status == status_reach:\n",
    "            self.buttons.input_x.disabled = False\n",
    "            self.buttons.input_y.disabled = False\n",
    "            self.buttons.set_goal_button.disabled = False\n",
    "            self.buttons.cancel_goal_button.disabled = True\n",
    "            self.status_target[1] += 1\n",
    "            self.y_data_robot=[]\n",
    "            self.x_data_robot=[]\n",
    "            print (\"Goal was cancel ciao sono qui\")\n",
    "    def update_plot(self, frame):\n",
    "        # Update plot with new data\n",
    "        self.ln_robot.set_data(self.x_data_robot, self.y_data_robot)\n",
    "        self.ln_target.set_data(self.x_data_target, self.y_data_target)\n",
    "        self.axis_status[0].set_height(self.status_target[0])\n",
    "        self.axis_status[1].set_height(self.status_target[1])\n",
    "        plt.draw()  # Redraw the plot\n",
    "        return self.ln_robot, self.ln_target, self.axis_status\n",
    "\n"
   ]
  },
  {
   "cell_type": "code",
   "execution_count": 5,
   "id": "80276227",
   "metadata": {
    "ExecuteTime": {
     "end_time": "2024-05-30T19:27:31.031295Z",
     "start_time": "2024-05-30T19:27:30.603840Z"
    }
   },
   "outputs": [],
   "source": [
    "# Create an output widget\n",
    "out = widgets.Output()\n",
    "\n",
    "# Display the Goals_button and Visualiser instances within the output widget\n",
    "with out:\n",
    "    # Create an instance of Goals_button\n",
    "    buttons = Goals_button()\n",
    "    # Create an instance of Visualiser, passing the Goals_button instance\n",
    "    vis = Visualiser(buttons)\n",
    "\n",
    "# Subscribe the Visualiser instance to ROS topics for receiving data\n",
    "# '/odom' topic for robot's position and velocity\n",
    "jr.subscribe('/odom', Odometry, vis.odom_clbk)\n",
    "# '/reaching_goal/result' topic for handling goal result\n",
    "jr.subscribe('/reaching_goal/result', assignment_2_2023.msg.PlanningActionResult, vis.result_clbk)\n",
    "# '/reaching_goal/goal' topic for handling goal target\n",
    "jr.subscribe('/reaching_goal/goal', assignment_2_2023.msg.PlanningActionGoal, vis.target_clbk)\n",
    "\n",
    "# Create a FuncAnimation object to continuously update the plot in the Visualiser instance\n",
    "# 'vis.fig' specifies the figure to be updated\n",
    "# 'vis.update_plot' specifies the method to update the plot\n",
    "# 'init_func=vis.plot_init' specifies the initialization function for the plot\n",
    "ani = FuncAnimation(vis.fig, vis.update_plot, init_func=vis.plot_init)"
   ]
  },
  {
   "cell_type": "code",
   "execution_count": 6,
   "id": "836631a0",
   "metadata": {
    "ExecuteTime": {
     "end_time": "2024-05-30T19:27:31.105109Z",
     "start_time": "2024-05-30T19:27:31.098023Z"
    }
   },
   "outputs": [],
   "source": [
    "def main():\n",
    "    global publisher\n",
    "    rospy.init_node('goal_sender_node')  \n",
    "    display(out)"
   ]
  },
  {
   "cell_type": "code",
   "execution_count": 9,
   "id": "9b1ce137",
   "metadata": {
    "ExecuteTime": {
     "end_time": "2024-05-30T19:44:51.426842Z",
     "start_time": "2024-05-30T19:44:51.411487Z"
    }
   },
   "outputs": [
    {
     "data": {
      "application/vnd.jupyter.widget-view+json": {
       "model_id": "3448a0daf13a41c1a3acddb6386d09fb",
       "version_major": 2,
       "version_minor": 0
      },
      "text/plain": [
       "Output(outputs=({'output_type': 'display_data', 'data': {'text/plain': \"VBox(children=(HBox(children=(VBox(chi…"
      ]
     },
     "metadata": {},
     "output_type": "display_data"
    }
   ],
   "source": [
    "main()"
   ]
  },
  {
   "cell_type": "code",
   "execution_count": null,
   "id": "076b717e",
   "metadata": {},
   "outputs": [],
   "source": []
  }
 ],
 "metadata": {
  "kernelspec": {
   "display_name": "Python 3 (ipykernel)",
   "language": "python",
   "name": "python3"
  },
  "language_info": {
   "codemirror_mode": {
    "name": "ipython",
    "version": 3
   },
   "file_extension": ".py",
   "mimetype": "text/x-python",
   "name": "python",
   "nbconvert_exporter": "python",
   "pygments_lexer": "ipython3",
   "version": "3.8.5"
  },
  "toc": {
   "base_numbering": 1,
   "nav_menu": {},
   "number_sections": true,
   "sideBar": true,
   "skip_h1_title": false,
   "title_cell": "Table of Contents",
   "title_sidebar": "Contents",
   "toc_cell": false,
   "toc_position": {
    "height": "calc(100% - 180px)",
    "left": "10px",
    "top": "150px",
    "width": "351.193px"
   },
   "toc_section_display": true,
   "toc_window_display": false
  },
  "varInspector": {
   "cols": {
    "lenName": 16,
    "lenType": 16,
    "lenVar": 40
   },
   "kernels_config": {
    "python": {
     "delete_cmd_postfix": "",
     "delete_cmd_prefix": "del ",
     "library": "var_list.py",
     "varRefreshCmd": "print(var_dic_list())"
    },
    "r": {
     "delete_cmd_postfix": ") ",
     "delete_cmd_prefix": "rm(",
     "library": "var_list.r",
     "varRefreshCmd": "cat(var_dic_list()) "
    }
   },
   "types_to_exclude": [
    "module",
    "function",
    "builtin_function_or_method",
    "instance",
    "_Feature"
   ],
   "window_display": false
  }
 },
 "nbformat": 4,
 "nbformat_minor": 5
}
